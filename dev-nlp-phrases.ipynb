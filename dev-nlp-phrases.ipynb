{
 "cells": [
  {
   "cell_type": "code",
   "execution_count": 9,
   "metadata": {},
   "outputs": [],
   "source": [
    "#!pip install matplotlib\n",
    "#!pip install xgboost"
   ]
  },
  {
   "cell_type": "code",
   "execution_count": 10,
   "metadata": {},
   "outputs": [],
   "source": [
    "import pandas as pd\n",
    "import matplotlib.pyplot as plt"
   ]
  },
  {
   "cell_type": "code",
   "execution_count": 11,
   "metadata": {},
   "outputs": [],
   "source": [
    "filepath = f'dataset.csv'\n",
    "df = pd.read_csv(filepath)"
   ]
  },
  {
   "cell_type": "markdown",
   "metadata": {},
   "source": [
    "## EDA"
   ]
  },
  {
   "cell_type": "code",
   "execution_count": 12,
   "metadata": {},
   "outputs": [
    {
     "data": {
      "text/html": [
       "<div>\n",
       "<style scoped>\n",
       "    .dataframe tbody tr th:only-of-type {\n",
       "        vertical-align: middle;\n",
       "    }\n",
       "\n",
       "    .dataframe tbody tr th {\n",
       "        vertical-align: top;\n",
       "    }\n",
       "\n",
       "    .dataframe thead th {\n",
       "        text-align: right;\n",
       "    }\n",
       "</style>\n",
       "<table border=\"1\" class=\"dataframe\">\n",
       "  <thead>\n",
       "    <tr style=\"text-align: right;\">\n",
       "      <th></th>\n",
       "      <th>sentence</th>\n",
       "      <th>category</th>\n",
       "    </tr>\n",
       "  </thead>\n",
       "  <tbody>\n",
       "    <tr>\n",
       "      <th>0</th>\n",
       "      <td>Auxílio-Doença Previdenciário, Benefícios em E...</td>\n",
       "      <td>orgão público</td>\n",
       "    </tr>\n",
       "    <tr>\n",
       "      <th>1</th>\n",
       "      <td>PAGAR TODAS AS CONTAS EM ATRASO R$1.290,90.</td>\n",
       "      <td>finanças</td>\n",
       "    </tr>\n",
       "    <tr>\n",
       "      <th>2</th>\n",
       "      <td>Então encontraremos na próxima aula.</td>\n",
       "      <td>educação</td>\n",
       "    </tr>\n",
       "    <tr>\n",
       "      <th>3</th>\n",
       "      <td>Veja os resultados da categoria de ofertas do ...</td>\n",
       "      <td>indústrias</td>\n",
       "    </tr>\n",
       "    <tr>\n",
       "      <th>4</th>\n",
       "      <td>Além disso, a embalagem é reutilizável e 100% ...</td>\n",
       "      <td>indústrias,varejo</td>\n",
       "    </tr>\n",
       "    <tr>\n",
       "      <th>...</th>\n",
       "      <td>...</td>\n",
       "      <td>...</td>\n",
       "    </tr>\n",
       "    <tr>\n",
       "      <th>516</th>\n",
       "      <td>Selecione o local de estudo, curso sem encontr...</td>\n",
       "      <td>educação</td>\n",
       "    </tr>\n",
       "    <tr>\n",
       "      <th>517</th>\n",
       "      <td>ESTUDANTES DA REDE MUNICIPAL VOLTAM ÀS AULAS E...</td>\n",
       "      <td>educação,orgão público</td>\n",
       "    </tr>\n",
       "    <tr>\n",
       "      <th>518</th>\n",
       "      <td>Empresas e órgãos públicos</td>\n",
       "      <td>orgão público</td>\n",
       "    </tr>\n",
       "    <tr>\n",
       "      <th>519</th>\n",
       "      <td>DGE – Departamento de Gestão Estratégica Metas...</td>\n",
       "      <td>orgão público</td>\n",
       "    </tr>\n",
       "    <tr>\n",
       "      <th>520</th>\n",
       "      <td>Lei 13.467/2017, Reforma Trabalhista</td>\n",
       "      <td>orgão público</td>\n",
       "    </tr>\n",
       "  </tbody>\n",
       "</table>\n",
       "<p>521 rows × 2 columns</p>\n",
       "</div>"
      ],
      "text/plain": [
       "                                              sentence                category\n",
       "0    Auxílio-Doença Previdenciário, Benefícios em E...           orgão público\n",
       "1          PAGAR TODAS AS CONTAS EM ATRASO R$1.290,90.                finanças\n",
       "2                 Então encontraremos na próxima aula.                educação\n",
       "3    Veja os resultados da categoria de ofertas do ...              indústrias\n",
       "4    Além disso, a embalagem é reutilizável e 100% ...       indústrias,varejo\n",
       "..                                                 ...                     ...\n",
       "516  Selecione o local de estudo, curso sem encontr...                educação\n",
       "517  ESTUDANTES DA REDE MUNICIPAL VOLTAM ÀS AULAS E...  educação,orgão público\n",
       "518                         Empresas e órgãos públicos           orgão público\n",
       "519  DGE – Departamento de Gestão Estratégica Metas...           orgão público\n",
       "520               Lei 13.467/2017, Reforma Trabalhista           orgão público\n",
       "\n",
       "[521 rows x 2 columns]"
      ]
     },
     "execution_count": 12,
     "metadata": {},
     "output_type": "execute_result"
    }
   ],
   "source": [
    "df"
   ]
  },
  {
   "cell_type": "code",
   "execution_count": 13,
   "metadata": {},
   "outputs": [
    {
     "data": {
      "text/plain": [
       "<AxesSubplot: >"
      ]
     },
     "execution_count": 13,
     "metadata": {},
     "output_type": "execute_result"
    },
    {
     "data": {
      "image/png": "[encoded data removed]",
      "text/plain": [
       "<Figure size 640x480 with 1 Axes>"
      ]
     },
     "metadata": {},
     "output_type": "display_data"
    }
   ],
   "source": [
    "df.category.value_counts().sort_values().plot(kind = 'barh')"
   ]
  },
  {
   "cell_type": "markdown",
   "metadata": {},
   "source": [
    "Algumas das categorias são coletivas, possuindo 2 classificações no máximo por texto, para solucionarmos esse problema iremos separar as categorias individuais"
   ]
  },
  {
   "cell_type": "code",
   "execution_count": 14,
   "metadata": {},
   "outputs": [],
   "source": [
    "dummies = df['category'].str.get_dummies(sep=',')\n",
    "df[dummies.columns] = dummies"
   ]
  },
  {
   "cell_type": "markdown",
   "metadata": {},
   "source": [
    "Feito isso temos 5 colunas com 0s e 1s indicando se aquela sentença pertence a classe correspondente [1 para sim e 0 para não] - Esse método é chamado de **One-hot-encoding**"
   ]
  },
  {
   "cell_type": "code",
   "execution_count": 15,
   "metadata": {},
   "outputs": [
    {
     "data": {
      "text/html": [
       "<div>\n",
       "<style scoped>\n",
       "    .dataframe tbody tr th:only-of-type {\n",
       "        vertical-align: middle;\n",
       "    }\n",
       "\n",
       "    .dataframe tbody tr th {\n",
       "        vertical-align: top;\n",
       "    }\n",
       "\n",
       "    .dataframe thead th {\n",
       "        text-align: right;\n",
       "    }\n",
       "</style>\n",
       "<table border=\"1\" class=\"dataframe\">\n",
       "  <thead>\n",
       "    <tr style=\"text-align: right;\">\n",
       "      <th></th>\n",
       "      <th>sentence</th>\n",
       "      <th>category</th>\n",
       "      <th>educação</th>\n",
       "      <th>finanças</th>\n",
       "      <th>indústrias</th>\n",
       "      <th>orgão público</th>\n",
       "      <th>varejo</th>\n",
       "    </tr>\n",
       "  </thead>\n",
       "  <tbody>\n",
       "    <tr>\n",
       "      <th>0</th>\n",
       "      <td>Auxílio-Doença Previdenciário, Benefícios em E...</td>\n",
       "      <td>orgão público</td>\n",
       "      <td>0</td>\n",
       "      <td>0</td>\n",
       "      <td>0</td>\n",
       "      <td>1</td>\n",
       "      <td>0</td>\n",
       "    </tr>\n",
       "    <tr>\n",
       "      <th>1</th>\n",
       "      <td>PAGAR TODAS AS CONTAS EM ATRASO R$1.290,90.</td>\n",
       "      <td>finanças</td>\n",
       "      <td>0</td>\n",
       "      <td>1</td>\n",
       "      <td>0</td>\n",
       "      <td>0</td>\n",
       "      <td>0</td>\n",
       "    </tr>\n",
       "    <tr>\n",
       "      <th>2</th>\n",
       "      <td>Então encontraremos na próxima aula.</td>\n",
       "      <td>educação</td>\n",
       "      <td>1</td>\n",
       "      <td>0</td>\n",
       "      <td>0</td>\n",
       "      <td>0</td>\n",
       "      <td>0</td>\n",
       "    </tr>\n",
       "    <tr>\n",
       "      <th>3</th>\n",
       "      <td>Veja os resultados da categoria de ofertas do ...</td>\n",
       "      <td>indústrias</td>\n",
       "      <td>0</td>\n",
       "      <td>0</td>\n",
       "      <td>1</td>\n",
       "      <td>0</td>\n",
       "      <td>0</td>\n",
       "    </tr>\n",
       "    <tr>\n",
       "      <th>4</th>\n",
       "      <td>Além disso, a embalagem é reutilizável e 100% ...</td>\n",
       "      <td>indústrias,varejo</td>\n",
       "      <td>0</td>\n",
       "      <td>0</td>\n",
       "      <td>1</td>\n",
       "      <td>0</td>\n",
       "      <td>1</td>\n",
       "    </tr>\n",
       "  </tbody>\n",
       "</table>\n",
       "</div>"
      ],
      "text/plain": [
       "                                            sentence           category  \\\n",
       "0  Auxílio-Doença Previdenciário, Benefícios em E...      orgão público   \n",
       "1        PAGAR TODAS AS CONTAS EM ATRASO R$1.290,90.           finanças   \n",
       "2               Então encontraremos na próxima aula.           educação   \n",
       "3  Veja os resultados da categoria de ofertas do ...         indústrias   \n",
       "4  Além disso, a embalagem é reutilizável e 100% ...  indústrias,varejo   \n",
       "\n",
       "   educação  finanças  indústrias  orgão público  varejo  \n",
       "0         0         0           0              1       0  \n",
       "1         0         1           0              0       0  \n",
       "2         1         0           0              0       0  \n",
       "3         0         0           1              0       0  \n",
       "4         0         0           1              0       1  "
      ]
     },
     "execution_count": 15,
     "metadata": {},
     "output_type": "execute_result"
    }
   ],
   "source": [
    "df.head(5)"
   ]
  },
  {
   "cell_type": "markdown",
   "metadata": {},
   "source": [
    "Removemos os caracteres especiais das colunas"
   ]
  },
  {
   "cell_type": "code",
   "execution_count": 16,
   "metadata": {},
   "outputs": [
    {
     "data": {
      "text/plain": [
       "Index(['sentence', 'category', 'educacao', 'financas', 'industrias',\n",
       "       'orgao publico', 'varejo'],\n",
       "      dtype='object')"
      ]
     },
     "execution_count": 16,
     "metadata": {},
     "output_type": "execute_result"
    }
   ],
   "source": [
    "df.columns = df.columns.str.normalize('NFKD').str.encode('ascii', errors='ignore').str.decode('utf-8')\n",
    "df.columns"
   ]
  },
  {
   "cell_type": "markdown",
   "metadata": {},
   "source": [
    "Iremos remover a coluna *category*, não precisamos mais dela no momento"
   ]
  },
  {
   "cell_type": "code",
   "execution_count": 17,
   "metadata": {},
   "outputs": [
    {
     "data": {
      "text/html": [
       "<div>\n",
       "<style scoped>\n",
       "    .dataframe tbody tr th:only-of-type {\n",
       "        vertical-align: middle;\n",
       "    }\n",
       "\n",
       "    .dataframe tbody tr th {\n",
       "        vertical-align: top;\n",
       "    }\n",
       "\n",
       "    .dataframe thead th {\n",
       "        text-align: right;\n",
       "    }\n",
       "</style>\n",
       "<table border=\"1\" class=\"dataframe\">\n",
       "  <thead>\n",
       "    <tr style=\"text-align: right;\">\n",
       "      <th></th>\n",
       "      <th>sentence</th>\n",
       "      <th>educacao</th>\n",
       "      <th>financas</th>\n",
       "      <th>industrias</th>\n",
       "      <th>orgao publico</th>\n",
       "      <th>varejo</th>\n",
       "    </tr>\n",
       "  </thead>\n",
       "  <tbody>\n",
       "    <tr>\n",
       "      <th>0</th>\n",
       "      <td>Auxílio-Doença Previdenciário, Benefícios em E...</td>\n",
       "      <td>0</td>\n",
       "      <td>0</td>\n",
       "      <td>0</td>\n",
       "      <td>1</td>\n",
       "      <td>0</td>\n",
       "    </tr>\n",
       "    <tr>\n",
       "      <th>1</th>\n",
       "      <td>PAGAR TODAS AS CONTAS EM ATRASO R$1.290,90.</td>\n",
       "      <td>0</td>\n",
       "      <td>1</td>\n",
       "      <td>0</td>\n",
       "      <td>0</td>\n",
       "      <td>0</td>\n",
       "    </tr>\n",
       "    <tr>\n",
       "      <th>2</th>\n",
       "      <td>Então encontraremos na próxima aula.</td>\n",
       "      <td>1</td>\n",
       "      <td>0</td>\n",
       "      <td>0</td>\n",
       "      <td>0</td>\n",
       "      <td>0</td>\n",
       "    </tr>\n",
       "    <tr>\n",
       "      <th>3</th>\n",
       "      <td>Veja os resultados da categoria de ofertas do ...</td>\n",
       "      <td>0</td>\n",
       "      <td>0</td>\n",
       "      <td>1</td>\n",
       "      <td>0</td>\n",
       "      <td>0</td>\n",
       "    </tr>\n",
       "    <tr>\n",
       "      <th>4</th>\n",
       "      <td>Além disso, a embalagem é reutilizável e 100% ...</td>\n",
       "      <td>0</td>\n",
       "      <td>0</td>\n",
       "      <td>1</td>\n",
       "      <td>0</td>\n",
       "      <td>1</td>\n",
       "    </tr>\n",
       "  </tbody>\n",
       "</table>\n",
       "</div>"
      ],
      "text/plain": [
       "                                            sentence  educacao  financas  \\\n",
       "0  Auxílio-Doença Previdenciário, Benefícios em E...         0         0   \n",
       "1        PAGAR TODAS AS CONTAS EM ATRASO R$1.290,90.         0         1   \n",
       "2               Então encontraremos na próxima aula.         1         0   \n",
       "3  Veja os resultados da categoria de ofertas do ...         0         0   \n",
       "4  Além disso, a embalagem é reutilizável e 100% ...         0         0   \n",
       "\n",
       "   industrias  orgao publico  varejo  \n",
       "0           0              1       0  \n",
       "1           0              0       0  \n",
       "2           0              0       0  \n",
       "3           1              0       0  \n",
       "4           1              0       1  "
      ]
     },
     "execution_count": 17,
     "metadata": {},
     "output_type": "execute_result"
    }
   ],
   "source": [
    "df.drop(columns=['category'], inplace=True)\n",
    "df.head(5)"
   ]
  },
  {
   "cell_type": "code",
   "execution_count": 18,
   "metadata": {},
   "outputs": [
    {
     "data": {
      "text/html": [
       "<div>\n",
       "<style scoped>\n",
       "    .dataframe tbody tr th:only-of-type {\n",
       "        vertical-align: middle;\n",
       "    }\n",
       "\n",
       "    .dataframe tbody tr th {\n",
       "        vertical-align: top;\n",
       "    }\n",
       "\n",
       "    .dataframe thead th {\n",
       "        text-align: right;\n",
       "    }\n",
       "</style>\n",
       "<table border=\"1\" class=\"dataframe\">\n",
       "  <thead>\n",
       "    <tr style=\"text-align: right;\">\n",
       "      <th></th>\n",
       "      <th>sentence</th>\n",
       "      <th>educacao</th>\n",
       "      <th>financas</th>\n",
       "      <th>industrias</th>\n",
       "      <th>orgao publico</th>\n",
       "      <th>varejo</th>\n",
       "    </tr>\n",
       "  </thead>\n",
       "  <tbody>\n",
       "    <tr>\n",
       "      <th>0</th>\n",
       "      <td>NaN</td>\n",
       "      <td>398.0</td>\n",
       "      <td>445.0</td>\n",
       "      <td>414.0</td>\n",
       "      <td>366.0</td>\n",
       "      <td>415.0</td>\n",
       "    </tr>\n",
       "    <tr>\n",
       "      <th>1</th>\n",
       "      <td>NaN</td>\n",
       "      <td>123.0</td>\n",
       "      <td>76.0</td>\n",
       "      <td>107.0</td>\n",
       "      <td>155.0</td>\n",
       "      <td>106.0</td>\n",
       "    </tr>\n",
       "    <tr>\n",
       "      <th>Compre na web e saia com dinheiro no bolso!</th>\n",
       "      <td>1.0</td>\n",
       "      <td>NaN</td>\n",
       "      <td>NaN</td>\n",
       "      <td>NaN</td>\n",
       "      <td>NaN</td>\n",
       "      <td>NaN</td>\n",
       "    </tr>\n",
       "    <tr>\n",
       "      <th>O seu carrinho já tem 17 itens.</th>\n",
       "      <td>1.0</td>\n",
       "      <td>NaN</td>\n",
       "      <td>NaN</td>\n",
       "      <td>NaN</td>\n",
       "      <td>NaN</td>\n",
       "      <td>NaN</td>\n",
       "    </tr>\n",
       "    <tr>\n",
       "      <th>Temos preços especiais e retirada na loja.</th>\n",
       "      <td>1.0</td>\n",
       "      <td>NaN</td>\n",
       "      <td>NaN</td>\n",
       "      <td>NaN</td>\n",
       "      <td>NaN</td>\n",
       "      <td>NaN</td>\n",
       "    </tr>\n",
       "    <tr>\n",
       "      <th>...</th>\n",
       "      <td>...</td>\n",
       "      <td>...</td>\n",
       "      <td>...</td>\n",
       "      <td>...</td>\n",
       "      <td>...</td>\n",
       "      <td>...</td>\n",
       "    </tr>\n",
       "    <tr>\n",
       "      <th>Você só pagará a tarifa por este serviço uma vez por mês.</th>\n",
       "      <td>1.0</td>\n",
       "      <td>NaN</td>\n",
       "      <td>NaN</td>\n",
       "      <td>NaN</td>\n",
       "      <td>NaN</td>\n",
       "      <td>NaN</td>\n",
       "    </tr>\n",
       "    <tr>\n",
       "      <th>programa de aprendizagem</th>\n",
       "      <td>1.0</td>\n",
       "      <td>NaN</td>\n",
       "      <td>NaN</td>\n",
       "      <td>NaN</td>\n",
       "      <td>NaN</td>\n",
       "      <td>NaN</td>\n",
       "    </tr>\n",
       "    <tr>\n",
       "      <th>É só ir ao caixa eletrônico do Itaú mais próximo com o seu cartão da conta corrente</th>\n",
       "      <td>1.0</td>\n",
       "      <td>NaN</td>\n",
       "      <td>NaN</td>\n",
       "      <td>NaN</td>\n",
       "      <td>NaN</td>\n",
       "      <td>NaN</td>\n",
       "    </tr>\n",
       "    <tr>\n",
       "      <th>É uma forma do investidor se programar para a realização dos seus objetivos.</th>\n",
       "      <td>1.0</td>\n",
       "      <td>NaN</td>\n",
       "      <td>NaN</td>\n",
       "      <td>NaN</td>\n",
       "      <td>NaN</td>\n",
       "      <td>NaN</td>\n",
       "    </tr>\n",
       "    <tr>\n",
       "      <th>Órgão Julgador: Juízo Substituto da 1ª vara de Capão da Canoa</th>\n",
       "      <td>1.0</td>\n",
       "      <td>NaN</td>\n",
       "      <td>NaN</td>\n",
       "      <td>NaN</td>\n",
       "      <td>NaN</td>\n",
       "      <td>NaN</td>\n",
       "    </tr>\n",
       "  </tbody>\n",
       "</table>\n",
       "<p>515 rows × 6 columns</p>\n",
       "</div>"
      ],
      "text/plain": [
       "                                                    sentence  educacao  \\\n",
       "0                                                        NaN     398.0   \n",
       "1                                                        NaN     123.0   \n",
       " Compre na web e saia com dinheiro no bolso!             1.0       NaN   \n",
       " O seu carrinho já tem 17 itens.                         1.0       NaN   \n",
       " Temos preços especiais e retirada na loja.              1.0       NaN   \n",
       "...                                                      ...       ...   \n",
       "Você só pagará a tarifa por este serviço uma ve...       1.0       NaN   \n",
       "programa de aprendizagem                                 1.0       NaN   \n",
       "É só ir ao caixa eletrônico do Itaú mais próxim...       1.0       NaN   \n",
       "É uma forma do investidor se programar para a r...       1.0       NaN   \n",
       "Órgão Julgador: Juízo Substituto da 1ª vara de ...       1.0       NaN   \n",
       "\n",
       "                                                    financas  industrias  \\\n",
       "0                                                      445.0       414.0   \n",
       "1                                                       76.0       107.0   \n",
       " Compre na web e saia com dinheiro no bolso!             NaN         NaN   \n",
       " O seu carrinho já tem 17 itens.                         NaN         NaN   \n",
       " Temos preços especiais e retirada na loja.              NaN         NaN   \n",
       "...                                                      ...         ...   \n",
       "Você só pagará a tarifa por este serviço uma ve...       NaN         NaN   \n",
       "programa de aprendizagem                                 NaN         NaN   \n",
       "É só ir ao caixa eletrônico do Itaú mais próxim...       NaN         NaN   \n",
       "É uma forma do investidor se programar para a r...       NaN         NaN   \n",
       "Órgão Julgador: Juízo Substituto da 1ª vara de ...       NaN         NaN   \n",
       "\n",
       "                                                    orgao publico  varejo  \n",
       "0                                                           366.0   415.0  \n",
       "1                                                           155.0   106.0  \n",
       " Compre na web e saia com dinheiro no bolso!                  NaN     NaN  \n",
       " O seu carrinho já tem 17 itens.                              NaN     NaN  \n",
       " Temos preços especiais e retirada na loja.                   NaN     NaN  \n",
       "...                                                           ...     ...  \n",
       "Você só pagará a tarifa por este serviço uma ve...            NaN     NaN  \n",
       "programa de aprendizagem                                      NaN     NaN  \n",
       "É só ir ao caixa eletrônico do Itaú mais próxim...            NaN     NaN  \n",
       "É uma forma do investidor se programar para a r...            NaN     NaN  \n",
       "Órgão Julgador: Juízo Substituto da 1ª vara de ...            NaN     NaN  \n",
       "\n",
       "[515 rows x 6 columns]"
      ]
     },
     "execution_count": 18,
     "metadata": {},
     "output_type": "execute_result"
    }
   ],
   "source": [
    "df.apply(pd.Series.value_counts)"
   ]
  },
  {
   "cell_type": "markdown",
   "metadata": {},
   "source": [
    "Quantidade de valor por classe em estudo"
   ]
  },
  {
   "cell_type": "code",
   "execution_count": 19,
   "metadata": {},
   "outputs": [
    {
     "data": {
      "text/plain": [
       "<AxesSubplot: >"
      ]
     },
     "execution_count": 19,
     "metadata": {},
     "output_type": "execute_result"
    },
    {
     "data": {
      "image/png": "[encoded data removed]",
      "text/plain": [
       "<Figure size 640x480 with 1 Axes>"
      ]
     },
     "metadata": {},
     "output_type": "display_data"
    }
   ],
   "source": [
    "df.iloc[:,-4:].apply(pd.Series.value_counts).tail(1).plot(kind='bar')\n"
   ]
  },
  {
   "cell_type": "markdown",
   "metadata": {},
   "source": [
    "## Tratamento do Texto e Processamento de Linguagem Natural"
   ]
  },
  {
   "cell_type": "markdown",
   "metadata": {},
   "source": [
    "Nesta seção iremos tratar o texto de nosso dataset e transforma-lo em um padrão no qual poderemos gerar um classificador multi-label"
   ]
  },
  {
   "cell_type": "code",
   "execution_count": 20,
   "metadata": {},
   "outputs": [],
   "source": [
    "#!pip install nltk"
   ]
  },
  {
   "cell_type": "code",
   "execution_count": 21,
   "metadata": {},
   "outputs": [],
   "source": [
    "from sklearn.model_selection import train_test_split\n",
    "from sklearn.feature_extraction.text import TfidfVectorizer\n",
    "from sklearn.metrics import accuracy_score\n",
    "from sklearn.multiclass import OneVsRestClassifier\n",
    "import nltk"
   ]
  },
  {
   "cell_type": "markdown",
   "metadata": {},
   "source": [
    "Estamos importando as stopwords (preposições) que atrapalham nosso processamento e modelagem"
   ]
  },
  {
   "cell_type": "code",
   "execution_count": 22,
   "metadata": {},
   "outputs": [
    {
     "name": "stderr",
     "output_type": "stream",
     "text": [
      "[nltk_data] Downloading package stopwords to\n",
      "[nltk_data]     C:\\Users\\victo\\AppData\\Roaming\\nltk_data...\n",
      "[nltk_data]   Package stopwords is already up-to-date!\n"
     ]
    },
    {
     "data": {
      "text/plain": [
       "['a', 'à', 'ao', 'aos', 'aquela']"
      ]
     },
     "execution_count": 22,
     "metadata": {},
     "output_type": "execute_result"
    }
   ],
   "source": [
    "nltk.download('stopwords')\n",
    "stopwords = nltk.corpus.stopwords.words('portuguese')\n",
    "stopwords[:5]"
   ]
  },
  {
   "cell_type": "code",
   "execution_count": 25,
   "metadata": {},
   "outputs": [
    {
     "data": {
      "text/plain": [
       "0"
      ]
     },
     "execution_count": 25,
     "metadata": {},
     "output_type": "execute_result"
    }
   ],
   "source": [
    "#Não há missing data in sentence\n",
    "df.sentence.isna().sum()"
   ]
  },
  {
   "cell_type": "code",
   "execution_count": 26,
   "metadata": {},
   "outputs": [],
   "source": [
    "import re\n",
    "def clean_text(data):\n",
    "    data['text_without_stopwords'] = data['sentence'].apply(lambda x: ' '.join([word for word in x.split() if word not in (stopwords)])\\\n",
    "        .lower().encode('ascii', errors='ignore').decode('utf-8'))    \n",
    "\n",
    "    return data"
   ]
  },
  {
   "cell_type": "code",
   "execution_count": 27,
   "metadata": {},
   "outputs": [],
   "source": [
    "#!pip install unidecode"
   ]
  },
  {
   "cell_type": "code",
   "execution_count": 28,
   "metadata": {},
   "outputs": [],
   "source": [
    "import re\n",
    "import unidecode\n",
    "\n",
    "def clean_text(data):\n",
    "    data['text_without_stopwords'] = data['sentence'].apply(lambda x:unidecode.unidecode(re.sub(r'[.,\"\\'-?:!;]', ' ', ' '.\\\n",
    "        join([word for word in x.split() if word not in (stopwords)])).lower()))    \n",
    "\n",
    "    return data"
   ]
  },
  {
   "cell_type": "code",
   "execution_count": 29,
   "metadata": {},
   "outputs": [],
   "source": [
    "df_clean = clean_text(df)"
   ]
  },
  {
   "cell_type": "code",
   "execution_count": 30,
   "metadata": {},
   "outputs": [
    {
     "data": {
      "text/html": [
       "<div>\n",
       "<style scoped>\n",
       "    .dataframe tbody tr th:only-of-type {\n",
       "        vertical-align: middle;\n",
       "    }\n",
       "\n",
       "    .dataframe tbody tr th {\n",
       "        vertical-align: top;\n",
       "    }\n",
       "\n",
       "    .dataframe thead th {\n",
       "        text-align: right;\n",
       "    }\n",
       "</style>\n",
       "<table border=\"1\" class=\"dataframe\">\n",
       "  <thead>\n",
       "    <tr style=\"text-align: right;\">\n",
       "      <th></th>\n",
       "      <th>educacao</th>\n",
       "      <th>financas</th>\n",
       "      <th>industrias</th>\n",
       "      <th>orgao publico</th>\n",
       "      <th>varejo</th>\n",
       "      <th>text_without_stopwords</th>\n",
       "    </tr>\n",
       "  </thead>\n",
       "  <tbody>\n",
       "    <tr>\n",
       "      <th>0</th>\n",
       "      <td>0</td>\n",
       "      <td>0</td>\n",
       "      <td>0</td>\n",
       "      <td>1</td>\n",
       "      <td>0</td>\n",
       "      <td>auxilio doenca previdenciario  beneficios espe...</td>\n",
       "    </tr>\n",
       "    <tr>\n",
       "      <th>1</th>\n",
       "      <td>0</td>\n",
       "      <td>1</td>\n",
       "      <td>0</td>\n",
       "      <td>0</td>\n",
       "      <td>0</td>\n",
       "      <td>pagar todas as contas em atraso r$</td>\n",
       "    </tr>\n",
       "    <tr>\n",
       "      <th>2</th>\n",
       "      <td>1</td>\n",
       "      <td>0</td>\n",
       "      <td>0</td>\n",
       "      <td>0</td>\n",
       "      <td>0</td>\n",
       "      <td>entao encontraremos proxima aula</td>\n",
       "    </tr>\n",
       "    <tr>\n",
       "      <th>3</th>\n",
       "      <td>0</td>\n",
       "      <td>0</td>\n",
       "      <td>1</td>\n",
       "      <td>0</td>\n",
       "      <td>0</td>\n",
       "      <td>veja resultados categoria ofertas novo modelo ...</td>\n",
       "    </tr>\n",
       "    <tr>\n",
       "      <th>4</th>\n",
       "      <td>0</td>\n",
       "      <td>0</td>\n",
       "      <td>1</td>\n",
       "      <td>0</td>\n",
       "      <td>1</td>\n",
       "      <td>alem disso  embalagem reutilizavel    % recicl...</td>\n",
       "    </tr>\n",
       "    <tr>\n",
       "      <th>...</th>\n",
       "      <td>...</td>\n",
       "      <td>...</td>\n",
       "      <td>...</td>\n",
       "      <td>...</td>\n",
       "      <td>...</td>\n",
       "      <td>...</td>\n",
       "    </tr>\n",
       "    <tr>\n",
       "      <th>516</th>\n",
       "      <td>1</td>\n",
       "      <td>0</td>\n",
       "      <td>0</td>\n",
       "      <td>0</td>\n",
       "      <td>0</td>\n",
       "      <td>selecione local estudo  curso encontros presen...</td>\n",
       "    </tr>\n",
       "    <tr>\n",
       "      <th>517</th>\n",
       "      <td>1</td>\n",
       "      <td>0</td>\n",
       "      <td>0</td>\n",
       "      <td>1</td>\n",
       "      <td>0</td>\n",
       "      <td>estudantes da rede municipal voltam as aulas e...</td>\n",
       "    </tr>\n",
       "    <tr>\n",
       "      <th>518</th>\n",
       "      <td>0</td>\n",
       "      <td>0</td>\n",
       "      <td>0</td>\n",
       "      <td>1</td>\n",
       "      <td>0</td>\n",
       "      <td>empresas orgaos publicos</td>\n",
       "    </tr>\n",
       "    <tr>\n",
       "      <th>519</th>\n",
       "      <td>0</td>\n",
       "      <td>0</td>\n",
       "      <td>0</td>\n",
       "      <td>1</td>\n",
       "      <td>0</td>\n",
       "      <td>dge - departamento gestao estrategica metas na...</td>\n",
       "    </tr>\n",
       "    <tr>\n",
       "      <th>520</th>\n",
       "      <td>0</td>\n",
       "      <td>0</td>\n",
       "      <td>0</td>\n",
       "      <td>1</td>\n",
       "      <td>0</td>\n",
       "      <td>lei              reforma trabalhista</td>\n",
       "    </tr>\n",
       "  </tbody>\n",
       "</table>\n",
       "<p>521 rows × 6 columns</p>\n",
       "</div>"
      ],
      "text/plain": [
       "     educacao  financas  industrias  orgao publico  varejo  \\\n",
       "0           0         0           0              1       0   \n",
       "1           0         1           0              0       0   \n",
       "2           1         0           0              0       0   \n",
       "3           0         0           1              0       0   \n",
       "4           0         0           1              0       1   \n",
       "..        ...       ...         ...            ...     ...   \n",
       "516         1         0           0              0       0   \n",
       "517         1         0           0              1       0   \n",
       "518         0         0           0              1       0   \n",
       "519         0         0           0              1       0   \n",
       "520         0         0           0              1       0   \n",
       "\n",
       "                                text_without_stopwords  \n",
       "0    auxilio doenca previdenciario  beneficios espe...  \n",
       "1          pagar todas as contas em atraso r$           \n",
       "2                    entao encontraremos proxima aula   \n",
       "3    veja resultados categoria ofertas novo modelo ...  \n",
       "4    alem disso  embalagem reutilizavel    % recicl...  \n",
       "..                                                 ...  \n",
       "516  selecione local estudo  curso encontros presen...  \n",
       "517  estudantes da rede municipal voltam as aulas e...  \n",
       "518                           empresas orgaos publicos  \n",
       "519  dge - departamento gestao estrategica metas na...  \n",
       "520               lei              reforma trabalhista  \n",
       "\n",
       "[521 rows x 6 columns]"
      ]
     },
     "execution_count": 30,
     "metadata": {},
     "output_type": "execute_result"
    }
   ],
   "source": [
    "df_clean.drop(columns=[\"sentence\"], inplace=True)\n",
    "df_clean"
   ]
  },
  {
   "cell_type": "markdown",
   "metadata": {},
   "source": [
    "Após limparmos o texto de stop words e deixa-lo em lowercase utilizaremos a ferramenta do TfidfVectorizer, o qual transformará as palavras do corpus (texto de sentence) em vetores que podem ser trabalhados.\n",
    "Nesse contexto estaremos utilizando BOW (Bag of Words) e TF-IDF"
   ]
  },
  {
   "cell_type": "markdown",
   "metadata": {},
   "source": [
    "Aqui esta um exemplo de aplicação:\n"
   ]
  },
  {
   "cell_type": "code",
   "execution_count": 31,
   "metadata": {},
   "outputs": [
    {
     "data": {
      "text/html": [
       "<div>\n",
       "<style scoped>\n",
       "    .dataframe tbody tr th:only-of-type {\n",
       "        vertical-align: middle;\n",
       "    }\n",
       "\n",
       "    .dataframe tbody tr th {\n",
       "        vertical-align: top;\n",
       "    }\n",
       "\n",
       "    .dataframe thead th {\n",
       "        text-align: right;\n",
       "    }\n",
       "</style>\n",
       "<table border=\"1\" class=\"dataframe\">\n",
       "  <thead>\n",
       "    <tr style=\"text-align: right;\">\n",
       "      <th></th>\n",
       "      <th>educacao</th>\n",
       "      <th>financas</th>\n",
       "      <th>industrias</th>\n",
       "      <th>orgao publico</th>\n",
       "      <th>varejo</th>\n",
       "      <th>text_without_stopwords</th>\n",
       "    </tr>\n",
       "  </thead>\n",
       "  <tbody>\n",
       "    <tr>\n",
       "      <th>0</th>\n",
       "      <td>0</td>\n",
       "      <td>0</td>\n",
       "      <td>0</td>\n",
       "      <td>1</td>\n",
       "      <td>0</td>\n",
       "      <td>auxilio doenca previdenciario  beneficios espe...</td>\n",
       "    </tr>\n",
       "    <tr>\n",
       "      <th>1</th>\n",
       "      <td>0</td>\n",
       "      <td>1</td>\n",
       "      <td>0</td>\n",
       "      <td>0</td>\n",
       "      <td>0</td>\n",
       "      <td>pagar todas as contas em atraso r$</td>\n",
       "    </tr>\n",
       "    <tr>\n",
       "      <th>2</th>\n",
       "      <td>1</td>\n",
       "      <td>0</td>\n",
       "      <td>0</td>\n",
       "      <td>0</td>\n",
       "      <td>0</td>\n",
       "      <td>entao encontraremos proxima aula</td>\n",
       "    </tr>\n",
       "  </tbody>\n",
       "</table>\n",
       "</div>"
      ],
      "text/plain": [
       "   educacao  financas  industrias  orgao publico  varejo  \\\n",
       "0         0         0           0              1       0   \n",
       "1         0         1           0              0       0   \n",
       "2         1         0           0              0       0   \n",
       "\n",
       "                              text_without_stopwords  \n",
       "0  auxilio doenca previdenciario  beneficios espe...  \n",
       "1        pagar todas as contas em atraso r$           \n",
       "2                  entao encontraremos proxima aula   "
      ]
     },
     "execution_count": 31,
     "metadata": {},
     "output_type": "execute_result"
    }
   ],
   "source": [
    "df_clean.head(3)"
   ]
  },
  {
   "cell_type": "code",
   "execution_count": 32,
   "metadata": {},
   "outputs": [],
   "source": [
    "cleanTrain, cleanTest = train_test_split(df_clean, random_state=42, test_size=0.33, shuffle=True)"
   ]
  },
  {
   "cell_type": "code",
   "execution_count": 103,
   "metadata": {},
   "outputs": [
    {
     "name": "stderr",
     "output_type": "stream",
     "text": [
      "c:\\Users\\victo\\anaconda3\\envs\\dev\\lib\\site-packages\\sklearn\\utils\\deprecation.py:87: FutureWarning: Function get_feature_names is deprecated; get_feature_names is deprecated in 1.0 and will be removed in 1.2. Please use get_feature_names_out instead.\n",
      "  warnings.warn(msg, category=FutureWarning)\n"
     ]
    },
    {
     "data": {
      "image/png": "[encoded data removed]",
      "text/plain": [
       "<Figure size 800x550 with 1 Axes>"
      ]
     },
     "metadata": {},
     "output_type": "display_data"
    },
    {
     "name": "stdout",
     "output_type": "stream",
     "text": [
      "Aqui podemos ver a correlação entre as palavras e suas 'proximidades'\n"
     ]
    },
    {
     "name": "stderr",
     "output_type": "stream",
     "text": [
      "*c* argument looks like a single numeric RGB or RGBA sequence, which should be avoided as value-mapping will have precedence in case its length matches with *x* & *y*.  Please use the *color* keyword-argument or provide a 2D array with a single row if you intend to specify the same RGB or RGBA value for all points.\n"
     ]
    },
    {
     "data": {
      "image/png": "[encoded data removed]",
      "text/plain": [
       "<Figure size 800x550 with 1 Axes>"
      ]
     },
     "metadata": {},
     "output_type": "display_data"
    }
   ],
   "source": [
    "from yellowbrick.text import FreqDistVisualizer\n",
    "from sklearn.feature_extraction.text import CountVectorizer\n",
    "\n",
    "vectorizer = TfidfVectorizer()\n",
    "vector_train_text = vectorizer.fit_transform(df_clean[\"text_without_stopwords\"])\n",
    "#vector_test_text =  vectorizer.fit_transform(cleanTest[\"text_without_stopwords\"])\n",
    "features = vectorizer.get_feature_names()\n",
    "\n",
    "visualizer = FreqDistVisualizer(features=features, orient='v')\n",
    "visualizer.fit(vector_train_text)\n",
    "visualizer.show()\n",
    "\n",
    "print(\"Aqui podemos ver a correlação entre as palavras e suas 'proximidades'\")\n",
    "from yellowbrick.text import UMAPVisualizer\n",
    "\n",
    "umap = UMAPVisualizer(metric=\"cosine\")\n",
    "umap.fit(vector_train_text)\n",
    "umap.show()\n",
    "\n",
    "vector_test_text =  vectorizer.fit_transform(cleanTest[\"text_without_stopwords\"])"
   ]
  },
  {
   "cell_type": "code",
   "execution_count": 34,
   "metadata": {},
   "outputs": [
    {
     "data": {
      "text/plain": [
       "array([[0, 0, 0, 1, 0],\n",
       "       [0, 1, 0, 0, 0],\n",
       "       [1, 0, 0, 0, 0],\n",
       "       ...,\n",
       "       [0, 0, 0, 1, 0],\n",
       "       [0, 0, 0, 1, 0],\n",
       "       [0, 0, 0, 1, 0]], dtype=int64)"
      ]
     },
     "execution_count": 34,
     "metadata": {},
     "output_type": "execute_result"
    }
   ],
   "source": [
    "df_clean.iloc[ : , :5].values"
   ]
  },
  {
   "cell_type": "code",
   "execution_count": 125,
   "metadata": {},
   "outputs": [],
   "source": [
    "\n",
    "\n",
    "X_train, X_test, y_train, y_test = train_test_split(df['text_without_stopwords'], df_clean.iloc[ : , :5].values, random_state = 32, test_size=0.1)\n",
    "\n",
    "#Usando TfIdf\n",
    "tfidf = TfidfVectorizer(\n",
    "    sublinear_tf= True,\n",
    "    lowercase=True,\n",
    "    analyzer='word',\n",
    "    norm= 'l2', \n",
    "    ngram_range= (1,1),\n",
    "    use_idf=True,\n",
    "    binary=False,\n",
    "    smooth_idf=True \n",
    ")\n",
    "\n",
    "bow = TfidfVectorizer(\n",
    "    binary=False,\n",
    "    norm=None,\n",
    "    use_idf=False,\n",
    "    smooth_idf=False,\n",
    "    lowercase=True,\n",
    "    min_df= 1,\n",
    "    max_features=None,\n",
    "    ngram_range=(1,1)\n",
    ")\n",
    "\n",
    "tfidf.fit_transform(df['text_without_stopwords'])\n",
    "X_train_counts = tfidf.transform(X_train)\n",
    "X_test_counts = tfidf.transform(X_test)\n",
    "\n",
    "X_train_bow = bow.fit_transform(X_train)\n",
    "X_test_bow = bow.transform(X_test)\n"
   ]
  },
  {
   "cell_type": "markdown",
   "metadata": {},
   "source": [
    "## Modelagem"
   ]
  },
  {
   "cell_type": "markdown",
   "metadata": {},
   "source": [
    "Nesta etapa iremos criar um Pipeline aplicar um modelo classificador no nosso conjunto de dados\n",
    "Inicialmente iremos realizar multi classificações binárias utilizando modelos mais simples, a seguir iremos partir para um modelo mais complexto de classificação multilabel"
   ]
  },
  {
   "cell_type": "markdown",
   "metadata": {},
   "source": [
    "### Multi-classificação binária"
   ]
  },
  {
   "cell_type": "code",
   "execution_count": 36,
   "metadata": {},
   "outputs": [
    {
     "data": {
      "text/plain": [
       "Index(['educacao', 'financas', 'industrias', 'orgao publico', 'varejo'], dtype='object')"
      ]
     },
     "execution_count": 36,
     "metadata": {},
     "output_type": "execute_result"
    }
   ],
   "source": [
    "categories = df.columns[0:5]\n",
    "categories"
   ]
  },
  {
   "cell_type": "markdown",
   "metadata": {},
   "source": [
    "Separando nosso conjunto de treino e teste"
   ]
  },
  {
   "cell_type": "code",
   "execution_count": 37,
   "metadata": {},
   "outputs": [],
   "source": [
    "train, test = train_test_split(df, random_state=42, test_size=0.33, shuffle=True)"
   ]
  },
  {
   "cell_type": "code",
   "execution_count": 38,
   "metadata": {},
   "outputs": [],
   "source": [
    "X_train = train.text_without_stopwords\n",
    "X_test = test.text_without_stopwords"
   ]
  },
  {
   "cell_type": "code",
   "execution_count": 39,
   "metadata": {},
   "outputs": [
    {
     "name": "stdout",
     "output_type": "stream",
     "text": [
      "Treinando a categoria educacao...\n",
      "Test accuracy is 0.7616279069767442\n",
      "Treinando a categoria financas...\n",
      "Test accuracy is 0.877906976744186\n",
      "Treinando a categoria industrias...\n",
      "Test accuracy is 0.8604651162790697\n",
      "Treinando a categoria orgao publico...\n",
      "Test accuracy is 0.872093023255814\n",
      "Treinando a categoria varejo...\n",
      "Test accuracy is 0.7790697674418605\n"
     ]
    }
   ],
   "source": [
    "from sklearn.naive_bayes import MultinomialNB\n",
    "from sklearn.pipeline import Pipeline\n",
    "\n",
    "\n",
    "NB_pipeline = Pipeline([\n",
    "                ('tfidf', TfidfVectorizer(stop_words=stopwords)),\n",
    "                ('clf', OneVsRestClassifier(MultinomialNB(\n",
    "                    fit_prior=True, class_prior=None))),\n",
    "            ])\n",
    "for category in categories:\n",
    "    print('Treinando a categoria {}...'.format(category))\n",
    "    NB_pipeline.fit(X_train, train[category])\n",
    "    prediction = NB_pipeline.predict(X_test)\n",
    "    print('Test accuracy is {}'.format(accuracy_score(test[category], prediction)))\n"
   ]
  },
  {
   "cell_type": "code",
   "execution_count": 40,
   "metadata": {},
   "outputs": [
    {
     "data": {
      "text/plain": [
       "507    tecnologia humana combina figura aluno  profes...\n",
       "93       suas compras podem parceladas   x juros cartao \n",
       "6                                 veja condicoes compra \n",
       "245    atender clientes  manter limpeza loja  marcar ...\n",
       "90     maquina lavar consul   kg branca  ciclo lavage...\n",
       "                             ...                        \n",
       "116    excelencia processos produtos  atraves envolvi...\n",
       "45                      apresentacao   disciplina online\n",
       "324          clique aqui ver processos relacionados trf \n",
       "16     temos ofertas promocoes imperdiveis  sempre co...\n",
       "485                     sua cesta vazia  voltar compras \n",
       "Name: text_without_stopwords, Length: 172, dtype: object"
      ]
     },
     "execution_count": 40,
     "metadata": {},
     "output_type": "execute_result"
    }
   ],
   "source": [
    "X_test"
   ]
  },
  {
   "cell_type": "code",
   "execution_count": null,
   "metadata": {},
   "outputs": [],
   "source": []
  },
  {
   "cell_type": "markdown",
   "metadata": {},
   "source": [
    "### Classificação Multilabel"
   ]
  },
  {
   "cell_type": "markdown",
   "metadata": {},
   "source": [
    "Vetorizando os valores textuais do nosso dataframe"
   ]
  },
  {
   "cell_type": "code",
   "execution_count": 42,
   "metadata": {},
   "outputs": [
    {
     "data": {
      "text/plain": [
       "[2, 5, 10]"
      ]
     },
     "execution_count": 42,
     "metadata": {},
     "output_type": "execute_result"
    }
   ],
   "source": [
    "[2, 5, 10]"
   ]
  },
  {
   "cell_type": "markdown",
   "metadata": {},
   "source": [
    "Nesta seção estamos utilizando o estimador junto ao RandomizedSearchCV, assim obtermos os melhores hyperparametros do nosso modelo"
   ]
  },
  {
   "cell_type": "code",
   "execution_count": 126,
   "metadata": {},
   "outputs": [],
   "source": [
    "from sklearn.ensemble import ExtraTreesClassifier, RandomForestClassifier\n",
    "from sklearn.linear_model import LogisticRegression\n",
    "from sklearn.tree import DecisionTreeClassifier\n",
    "from sklearn.multiclass import OneVsRestClassifier\n",
    "from sklearn.svm import SVC\n",
    "from sklearn.metrics import confusion_matrix, f1_score, precision_score, recall_score\n",
    "from sklearn.model_selection import GridSearchCV, RandomizedSearchCV\n",
    "import xgboost as xgb\n",
    "from scipy.stats import uniform"
   ]
  },
  {
   "cell_type": "code",
   "execution_count": 127,
   "metadata": {},
   "outputs": [
    {
     "name": "stdout",
     "output_type": "stream",
     "text": [
      "Fitting 5 folds for each of 9 candidates, totalling 45 fits\n"
     ]
    },
    {
     "data": {
      "text/plain": [
       "{'min_samples_split': 2, 'n_estimators': 2000}"
      ]
     },
     "execution_count": 127,
     "metadata": {},
     "output_type": "execute_result"
    }
   ],
   "source": [
    "model_grid = ExtraTreesClassifier()\n",
    "param_grid = {'n_estimators': [500,1000,2000],\n",
    "            'min_samples_split': [2, 5, 10]}     \n",
    "clf_cv = GridSearchCV(estimator = model_grid,  param_grid=param_grid, cv=5, verbose=1, n_jobs=-1, scoring='f1_weighted')\n",
    "search = clf_cv.fit(X_train_counts, y_train)\n",
    "best_params_extra_trees = search.best_params_\n",
    "best_params_extra_trees"
   ]
  },
  {
   "cell_type": "markdown",
   "metadata": {},
   "source": [
    "Modelos utilizando TFIDF"
   ]
  },
  {
   "cell_type": "code",
   "execution_count": 149,
   "metadata": {},
   "outputs": [],
   "source": [
    "model_one = OneVsRestClassifier(xgb.XGBClassifier(n_estimators=1000)).fit(X_train_counts, y_train)"
   ]
  },
  {
   "cell_type": "code",
   "execution_count": 150,
   "metadata": {},
   "outputs": [
    {
     "data": {
      "text/html": [
       "<style>#sk-container-id-5 {color: black;background-color: white;}#sk-container-id-5 pre{padding: 0;}#sk-container-id-5 div.sk-toggleable {background-color: white;}#sk-container-id-5 label.sk-toggleable__label {cursor: pointer;display: block;width: 100%;margin-bottom: 0;padding: 0.3em;box-sizing: border-box;text-align: center;}#sk-container-id-5 label.sk-toggleable__label-arrow:before {content: \"▸\";float: left;margin-right: 0.25em;color: #696969;}#sk-container-id-5 label.sk-toggleable__label-arrow:hover:before {color: black;}#sk-container-id-5 div.sk-estimator:hover label.sk-toggleable__label-arrow:before {color: black;}#sk-container-id-5 div.sk-toggleable__content {max-height: 0;max-width: 0;overflow: hidden;text-align: left;background-color: #f0f8ff;}#sk-container-id-5 div.sk-toggleable__content pre {margin: 0.2em;color: black;border-radius: 0.25em;background-color: #f0f8ff;}#sk-container-id-5 input.sk-toggleable__control:checked~div.sk-toggleable__content {max-height: 200px;max-width: 100%;overflow: auto;}#sk-container-id-5 input.sk-toggleable__control:checked~label.sk-toggleable__label-arrow:before {content: \"▾\";}#sk-container-id-5 div.sk-estimator input.sk-toggleable__control:checked~label.sk-toggleable__label {background-color: #d4ebff;}#sk-container-id-5 div.sk-label input.sk-toggleable__control:checked~label.sk-toggleable__label {background-color: #d4ebff;}#sk-container-id-5 input.sk-hidden--visually {border: 0;clip: rect(1px 1px 1px 1px);clip: rect(1px, 1px, 1px, 1px);height: 1px;margin: -1px;overflow: hidden;padding: 0;position: absolute;width: 1px;}#sk-container-id-5 div.sk-estimator {font-family: monospace;background-color: #f0f8ff;border: 1px dotted black;border-radius: 0.25em;box-sizing: border-box;margin-bottom: 0.5em;}#sk-container-id-5 div.sk-estimator:hover {background-color: #d4ebff;}#sk-container-id-5 div.sk-parallel-item::after {content: \"\";width: 100%;border-bottom: 1px solid gray;flex-grow: 1;}#sk-container-id-5 div.sk-label:hover label.sk-toggleable__label {background-color: #d4ebff;}#sk-container-id-5 div.sk-serial::before {content: \"\";position: absolute;border-left: 1px solid gray;box-sizing: border-box;top: 0;bottom: 0;left: 50%;z-index: 0;}#sk-container-id-5 div.sk-serial {display: flex;flex-direction: column;align-items: center;background-color: white;padding-right: 0.2em;padding-left: 0.2em;position: relative;}#sk-container-id-5 div.sk-item {position: relative;z-index: 1;}#sk-container-id-5 div.sk-parallel {display: flex;align-items: stretch;justify-content: center;background-color: white;position: relative;}#sk-container-id-5 div.sk-item::before, #sk-container-id-5 div.sk-parallel-item::before {content: \"\";position: absolute;border-left: 1px solid gray;box-sizing: border-box;top: 0;bottom: 0;left: 50%;z-index: -1;}#sk-container-id-5 div.sk-parallel-item {display: flex;flex-direction: column;z-index: 1;position: relative;background-color: white;}#sk-container-id-5 div.sk-parallel-item:first-child::after {align-self: flex-end;width: 50%;}#sk-container-id-5 div.sk-parallel-item:last-child::after {align-self: flex-start;width: 50%;}#sk-container-id-5 div.sk-parallel-item:only-child::after {width: 0;}#sk-container-id-5 div.sk-dashed-wrapped {border: 1px dashed gray;margin: 0 0.4em 0.5em 0.4em;box-sizing: border-box;padding-bottom: 0.4em;background-color: white;}#sk-container-id-5 div.sk-label label {font-family: monospace;font-weight: bold;display: inline-block;line-height: 1.2em;}#sk-container-id-5 div.sk-label-container {text-align: center;}#sk-container-id-5 div.sk-container {/* jupyter's `normalize.less` sets `[hidden] { display: none; }` but bootstrap.min.css set `[hidden] { display: none !important; }` so we also need the `!important` here to be able to override the default hidden behavior on the sphinx rendered scikit-learn.org. See: https://github.com/scikit-learn/scikit-learn/issues/21755 */display: inline-block !important;position: relative;}#sk-container-id-5 div.sk-text-repr-fallback {display: none;}</style><div id=\"sk-container-id-5\" class=\"sk-top-container\"><div class=\"sk-text-repr-fallback\"><pre>ExtraTreesClassifier(n_estimators=1000)</pre><b>In a Jupyter environment, please rerun this cell to show the HTML representation or trust the notebook. <br />On GitHub, the HTML representation is unable to render, please try loading this page with nbviewer.org.</b></div><div class=\"sk-container\" hidden><div class=\"sk-item\"><div class=\"sk-estimator sk-toggleable\"><input class=\"sk-toggleable__control sk-hidden--visually\" id=\"sk-estimator-id-5\" type=\"checkbox\" checked><label for=\"sk-estimator-id-5\" class=\"sk-toggleable__label sk-toggleable__label-arrow\">ExtraTreesClassifier</label><div class=\"sk-toggleable__content\"><pre>ExtraTreesClassifier(n_estimators=1000)</pre></div></div></div></div></div>"
      ],
      "text/plain": [
       "ExtraTreesClassifier(n_estimators=1000)"
      ]
     },
     "execution_count": 150,
     "metadata": {},
     "output_type": "execute_result"
    }
   ],
   "source": [
    "rf = ExtraTreesClassifier(**best_params)\n",
    "rf.fit(X_train_counts, y_train)\n",
    "rf"
   ]
  },
  {
   "cell_type": "markdown",
   "metadata": {},
   "source": [
    "Modelos utilizando BOW"
   ]
  },
  {
   "cell_type": "code",
   "execution_count": 130,
   "metadata": {},
   "outputs": [],
   "source": [
    "model_bow = OneVsRestClassifier(xgb.XGBClassifier(n_estimators=100)).fit(X_train_bow, y_train)"
   ]
  },
  {
   "cell_type": "code",
   "execution_count": 131,
   "metadata": {},
   "outputs": [],
   "source": [
    "rf_bow = ExtraTreesClassifier(n_estimators=1000).fit(X_train_bow, y_train)"
   ]
  },
  {
   "cell_type": "markdown",
   "metadata": {},
   "source": [
    "Predição utilizando os modelos criados"
   ]
  },
  {
   "cell_type": "code",
   "execution_count": 132,
   "metadata": {},
   "outputs": [],
   "source": [
    "predicted_labels_one = model_one.predict(X_test_counts)\n",
    "predicted_labels_one_bow = model_bow.predict(X_test_bow)"
   ]
  },
  {
   "cell_type": "code",
   "execution_count": 134,
   "metadata": {},
   "outputs": [],
   "source": [
    "predicted_labels = rf.predict(X_test_counts)\n",
    "predicted_labels_bow = rf_bow.predict(X_test_bow)"
   ]
  },
  {
   "cell_type": "markdown",
   "metadata": {},
   "source": [
    "#### Métricas"
   ]
  },
  {
   "cell_type": "markdown",
   "metadata": {},
   "source": [
    "Utilizando principalmente o F1-Score como medida de desempenho de nosso modelo, essa métrica é baseada na média harmônica entre Recall e Precision no qual também estaremos analisando nesse problema de classificação multitarget, por ser um problema com mais de uma classe precisamos da média dessas métricas."
   ]
  },
  {
   "cell_type": "code",
   "execution_count": 135,
   "metadata": {},
   "outputs": [],
   "source": [
    "from sklearn.metrics import average_precision_score\n",
    "\n",
    "\n",
    "def print_evaluation_scores(y_test, predicted):\n",
    "    \n",
    "    print('Accuracy: ', accuracy_score(y_test, predicted, normalize=False))\n",
    "    print('F1-score macro: ', f1_score(y_test, predicted, average='macro'))\n",
    "    print('F1-score micro: ', f1_score(y_test, predicted, average='micro'))\n",
    "    print('F1-score weighted: ', f1_score(y_test, predicted, average='weighted'))\n",
    "    print('Precision macro: ', average_precision_score(y_test, predicted, average='macro'))\n",
    "    print('Precision micro: ', average_precision_score(y_test, predicted, average='micro'))\n",
    "    print('Precision weighted: ', average_precision_score(y_test, predicted, average='weighted'))"
   ]
  },
  {
   "cell_type": "markdown",
   "metadata": {},
   "source": [
    "Matriz de Confusão para ExtraTreesClassifier"
   ]
  },
  {
   "cell_type": "code",
   "execution_count": 136,
   "metadata": {},
   "outputs": [
    {
     "name": "stdout",
     "output_type": "stream",
     "text": [
      "[[[41  5]\n",
      "  [ 1  6]]\n",
      "\n",
      " [[44  5]\n",
      "  [ 1  3]]\n",
      "\n",
      " [[41  3]\n",
      "  [ 0  9]]\n",
      "\n",
      " [[29  3]\n",
      "  [11 10]]\n",
      "\n",
      " [[38  6]\n",
      "  [ 1  8]]]\n"
     ]
    }
   ],
   "source": [
    "from sklearn.metrics import multilabel_confusion_matrix\n",
    "print(multilabel_confusion_matrix(predicted_labels, y_test))"
   ]
  },
  {
   "cell_type": "markdown",
   "metadata": {},
   "source": [
    "Matriz de Confusão para OneVsRestClassifier"
   ]
  },
  {
   "cell_type": "code",
   "execution_count": 137,
   "metadata": {},
   "outputs": [
    {
     "name": "stdout",
     "output_type": "stream",
     "text": [
      "[[[40  6]\n",
      "  [ 2  5]]\n",
      "\n",
      " [[41  5]\n",
      "  [ 4  3]]\n",
      "\n",
      " [[41  4]\n",
      "  [ 0  8]]\n",
      "\n",
      " [[39 10]\n",
      "  [ 1  3]]\n",
      "\n",
      " [[39  7]\n",
      "  [ 0  7]]]\n"
     ]
    }
   ],
   "source": [
    "from sklearn.metrics import multilabel_confusion_matrix\n",
    "print(multilabel_confusion_matrix(predicted_labels_one, y_test))"
   ]
  },
  {
   "cell_type": "markdown",
   "metadata": {},
   "source": [
    "Métricas de Avaliação de ExtraTreesClassifier"
   ]
  },
  {
   "cell_type": "code",
   "execution_count": 138,
   "metadata": {},
   "outputs": [
    {
     "name": "stdout",
     "output_type": "stream",
     "text": [
      "Accuracy:  32\n",
      "F1-score macro:  0.6615393983680428\n",
      "F1-score micro:  0.6666666666666666\n",
      "F1-score weighted:  0.6725040840924075\n",
      "Precision macro:  0.5576227362783965\n",
      "Precision micro:  0.5299154196486663\n",
      "Precision weighted:  0.5699711352769257\n"
     ]
    }
   ],
   "source": [
    "#TFIDF\n",
    "print_evaluation_scores(y_test,predicted_labels)"
   ]
  },
  {
   "cell_type": "code",
   "execution_count": 139,
   "metadata": {},
   "outputs": [
    {
     "name": "stdout",
     "output_type": "stream",
     "text": [
      "Accuracy:  31\n",
      "F1-score macro:  0.6654832486354225\n",
      "F1-score micro:  0.6666666666666665\n",
      "F1-score weighted:  0.6730054209908033\n",
      "Precision macro:  0.5724732924583967\n",
      "Precision micro:  0.5361688284721549\n",
      "Precision weighted:  0.5785321034096845\n"
     ]
    }
   ],
   "source": [
    "#BOW\n",
    "print_evaluation_scores(y_test,predicted_labels_bow)"
   ]
  },
  {
   "cell_type": "markdown",
   "metadata": {},
   "source": [
    "Métricas de Avaliação de OneVsRestClassifier"
   ]
  },
  {
   "cell_type": "code",
   "execution_count": 140,
   "metadata": {},
   "outputs": [
    {
     "name": "stdout",
     "output_type": "stream",
     "text": [
      "Accuracy:  22\n",
      "F1-score macro:  0.5550326797385621\n",
      "F1-score micro:  0.5714285714285714\n",
      "F1-score weighted:  0.5660806851476223\n",
      "Precision macro:  0.48578135700777203\n",
      "Precision micro:  0.4739417598233473\n",
      "Precision weighted:  0.5054256901198996\n"
     ]
    }
   ],
   "source": [
    "#TFIDF\n",
    "print_evaluation_scores(y_test,predicted_labels_one)"
   ]
  },
  {
   "cell_type": "code",
   "execution_count": 141,
   "metadata": {},
   "outputs": [
    {
     "name": "stdout",
     "output_type": "stream",
     "text": [
      "Accuracy:  22\n",
      "F1-score macro:  0.5518128654970761\n",
      "F1-score micro:  0.5555555555555556\n",
      "F1-score weighted:  0.5509175236942931\n",
      "Precision macro:  0.47667948403797455\n",
      "Precision micro:  0.46127399154196486\n",
      "Precision weighted:  0.48628125290454505\n"
     ]
    }
   ],
   "source": [
    "#BOW\n",
    "print_evaluation_scores(y_test,predicted_labels_one_bow)"
   ]
  },
  {
   "cell_type": "markdown",
   "metadata": {},
   "source": [
    "A partir daqui usaremos os testes do melhor classificador"
   ]
  },
  {
   "cell_type": "code",
   "execution_count": 142,
   "metadata": {},
   "outputs": [
    {
     "name": "stderr",
     "output_type": "stream",
     "text": [
      "C:\\Users\\victo\\AppData\\Local\\Temp\\ipykernel_7056\\2494917428.py:16: MatplotlibDeprecationWarning: The 'b' parameter of grid() has been renamed 'visible' since Matplotlib 3.5; support for the old name will be dropped two minor releases later.\n",
      "  plt.grid(b=None)\n"
     ]
    },
    {
     "data": {
      "image/png": "[encoded data removed]",
      "text/plain": [
       "<Figure size 2500x500 with 6 Axes>"
      ]
     },
     "metadata": {},
     "output_type": "display_data"
    }
   ],
   "source": [
    "from sklearn.metrics import ConfusionMatrixDisplay\n",
    "\n",
    "\n",
    "f, axes = plt.subplots(1, 5, figsize=(25, 5))\n",
    "axes = axes.ravel()\n",
    "for i in range(5):\n",
    "    disp = ConfusionMatrixDisplay(confusion_matrix(y_test[:, i],\n",
    "                                                   predicted_labels[:, i]),\n",
    "                                  display_labels=[0, i])\n",
    "    disp.plot(ax=axes[i], values_format='.4g')\n",
    "    disp.ax_.set_title(f'class {i}')\n",
    "    if i%5!=0:\n",
    "        disp.ax_.set_ylabel('')\n",
    "    disp.im_.colorbar.remove()\n",
    "f.colorbar(disp.im_, ax=axes)\n",
    "plt.grid(b=None)\n",
    "plt.show()\n"
   ]
  },
  {
   "cell_type": "markdown",
   "metadata": {},
   "source": [
    "Aqui podemos realizar um teste com um input arbitrário e nosso modelo irá classificá-lo"
   ]
  },
  {
   "cell_type": "code",
   "execution_count": 143,
   "metadata": {},
   "outputs": [],
   "source": [
    "def input_to_class(predictor, entrada):\n",
    "    singular = tfidf.transform(pd.Series([entrada]))\n",
    "    resultado = predictor.predict(singular)\n",
    "    colunas = df_clean.iloc[:, 0:5].columns\n",
    "    for i in range(len(colunas)):\n",
    "        if (resultado[0][i] == 1):\n",
    "            print(colunas[i])"
   ]
  },
  {
   "cell_type": "code",
   "execution_count": 144,
   "metadata": {},
   "outputs": [
    {
     "data": {
      "text/plain": [
       "Index(['educacao', 'financas', 'industrias', 'orgao publico', 'varejo'], dtype='object')"
      ]
     },
     "execution_count": 144,
     "metadata": {},
     "output_type": "execute_result"
    }
   ],
   "source": [
    "colunas = df_clean.iloc[:, 0:5].columns\n",
    "colunas"
   ]
  },
  {
   "cell_type": "code",
   "execution_count": 147,
   "metadata": {},
   "outputs": [
    {
     "name": "stdout",
     "output_type": "stream",
     "text": [
      "orgao publico\n"
     ]
    }
   ],
   "source": [
    "entrada = input()\n",
    "input_to_class(rf, entrada)"
   ]
  },
  {
   "cell_type": "markdown",
   "metadata": {},
   "source": [
    "Usando um exemplo da descrição do problema:"
   ]
  },
  {
   "cell_type": "code",
   "execution_count": 148,
   "metadata": {},
   "outputs": [],
   "source": [
    "entrada = 'Curso de Técnico em Segurança do Trabalho por 32x R$ 161,03.'\n",
    "input_to_class(rf, entrada)"
   ]
  },
  {
   "cell_type": "markdown",
   "metadata": {},
   "source": [
    "Ferramenta para a construção e execução de um modelo completo:"
   ]
  },
  {
   "cell_type": "code",
   "execution_count": 155,
   "metadata": {},
   "outputs": [],
   "source": [
    "def build_model(df, n_grams, model, column, params, test_size):\n",
    "    X_train, X_test, y_train, y_test = train_test_split(df[column], df_clean.iloc[ : , :5].values, random_state = 32, test_size=test_size)\n",
    "    tfidf = TfidfVectorizer(\n",
    "        sublinear_tf= True,\n",
    "        lowercase=True,\n",
    "        analyzer='word',\n",
    "        norm= 'l2', \n",
    "        ngram_range= (1,n_grams),\n",
    "        use_idf=True,\n",
    "        binary=False,\n",
    "        smooth_idf=True \n",
    "    )\n",
    "\n",
    "    X_train_cts = tfidf.fit_transform(X_train)\n",
    "    X_test_cts = tfidf.transform(X_test)\n",
    "\n",
    "    model.set_params(**params)\n",
    "    model.fit(X_train_cts, y_train)\n",
    "\n",
    "    predicted_labels = model.predict(X_test_cts)\n",
    "\n",
    "    print_evaluation_scores(y_test,predicted_labels)"
   ]
  },
  {
   "cell_type": "code",
   "execution_count": 156,
   "metadata": {},
   "outputs": [
    {
     "name": "stdout",
     "output_type": "stream",
     "text": [
      "Accuracy:  55\n",
      "F1-score macro:  0.5958092257842582\n",
      "F1-score micro:  0.6161616161616161\n",
      "F1-score weighted:  0.6040561331233015\n",
      "Precision macro:  0.5194166992427862\n",
      "Precision micro:  0.48645001363377205\n",
      "Precision weighted:  0.5222146584978443\n"
     ]
    }
   ],
   "source": [
    "model = RandomForestClassifier()\n",
    "params = {'min_samples_split': 2, 'n_estimators': 2000}\n",
    "build_model(df = df_clean, n_grams=2, model= model, column='text_without_stopwords', params=params, test_size=0.2)"
   ]
  },
  {
   "cell_type": "markdown",
   "metadata": {},
   "source": [
    "Iterando N_GRAMS"
   ]
  },
  {
   "cell_type": "code",
   "execution_count": 159,
   "metadata": {},
   "outputs": [
    {
     "name": "stdout",
     "output_type": "stream",
     "text": [
      "1\n",
      "Accuracy:  56\n",
      "F1-score macro:  0.6128234439562271\n",
      "F1-score micro:  0.6237623762376237\n",
      "F1-score weighted:  0.6149934554856582\n",
      "Precision macro:  0.5270350407694836\n",
      "Precision micro:  0.48988858743258656\n",
      "Precision weighted:  0.5271139947045774\n",
      "2\n",
      "Accuracy:  54\n",
      "F1-score macro:  0.5736200716845878\n",
      "F1-score micro:  0.5922330097087378\n",
      "F1-score weighted:  0.5804580201097472\n",
      "Precision macro:  0.49239048873831487\n",
      "Precision micro:  0.4531250764650707\n",
      "Precision weighted:  0.49576485461441216\n",
      "3\n",
      "Accuracy:  52\n",
      "F1-score macro:  0.5503155324207956\n",
      "F1-score micro:  0.5841584158415842\n",
      "F1-score weighted:  0.5665109563106768\n",
      "Precision macro:  0.4742086705564966\n",
      "Precision micro:  0.44898421852583137\n",
      "Precision weighted:  0.4853350189633376\n",
      "4\n",
      "Accuracy:  52\n",
      "F1-score macro:  0.551731893837157\n",
      "F1-score micro:  0.5870646766169154\n",
      "F1-score weighted:  0.568579094662001\n",
      "Precision macro:  0.47575040367717714\n",
      "Precision micro:  0.45291748074933913\n",
      "Precision weighted:  0.4875862221926498\n"
     ]
    }
   ],
   "source": [
    "params = {'min_samples_split': 5, 'n_estimators': 1000}\n",
    "for i in range(4):\n",
    "    print(i+1)\n",
    "    build_model(df = df_clean, n_grams=i+1, model= model, column='text_without_stopwords', params=params, test_size=0.2)"
   ]
  },
  {
   "cell_type": "code",
   "execution_count": null,
   "metadata": {},
   "outputs": [],
   "source": []
  }
 ],
 "metadata": {
  "kernelspec": {
   "display_name": "Python 3.9.13 ('dev')",
   "language": "python",
   "name": "python3"
  },
  "language_info": {
   "codemirror_mode": {
    "name": "ipython",
    "version": 3
   },
   "file_extension": ".py",
   "mimetype": "text/x-python",
   "name": "python",
   "nbconvert_exporter": "python",
   "pygments_lexer": "ipython3",
   "version": "3.9.13"
  },
  "orig_nbformat": 4,
  "vscode": {
   "interpreter": {
    "hash": "6ec50e2dddca2376d90d7f852e4579e00459be64bf68dd155a4947fa3ea19e2b"
   }
  }
 },
 "nbformat": 4,
 "nbformat_minor": 2
}
